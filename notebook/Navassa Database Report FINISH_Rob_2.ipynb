{
 "cells": [
  {
   "cell_type": "markdown",
   "id": "2e282819",
   "metadata": {},
   "source": [
    "<center><h1> Welcome To Dynamic SVB Report Demo</h1></center>\n",
    "\n",
    "<center><h1>Yifeng Yuan</h1></center>\n",
    "\n",
    "## Introduction ##\n",
    "In this demo, you will see a few examples of implementing the following items:\n",
    "\n",
    "1. Show all databases on the server\n",
    "2. Show all tables in the database\n",
    "3. Show total number of rows in the table\n",
    "4. Enumerate all API versions in the table\n",
    "5. Interactive pivot chart\n",
    "    1. TX07 Single-tone Attenuation Sweep Test\n",
    "        1. Pout vs Attenuation plot\n",
    "        2. Tx Gain Delta vs Attenuation plot\n",
    "        3. Tx LO Leakage vs Attenuation plot\n",
    "    2. TX00 1-Tone Frequency Sweep Test\n",
    "        1. Image Rejection Vs Baseband Tone Sweep Frequency\n",
    "        2. TX Swept Tone Image Power Vs Baseband Tone Sweep Frequency\n",
    "        3. TX Swept Tone Fundamental Power Vs Baseband Tone Sweep Frequency\n"
   ]
  },
  {
   "cell_type": "code",
   "execution_count": 1,
   "id": "61dbb79a",
   "metadata": {
    "scrolled": true
   },
   "outputs": [],
   "source": [
    "# import all modules and libraries\n",
    "import pyodbc\n",
    "import xlwings as xw\n",
    "import string\n",
    "import pandas as pd\n",
    "from pandas import DataFrame\n",
    "from pivottablejs import pivot_ui\n",
    "from IPython.display import HTML\n",
    "# ------------------------------------\n",
    "import ipypivot as pt\n",
    "import matplotlib.pyplot as plt\n",
    "\n",
    "from IPython.display import FileLink, FileLinks "
   ]
  },
  {
   "cell_type": "code",
   "execution_count": 2,
   "id": "0f98c2a8",
   "metadata": {},
   "outputs": [],
   "source": [
    "# connect to server\n",
    "# create a cursor object\n",
    "# def create_engine(server_name, db=''):\n",
    "#     connection_string = \"DRIVER={ODBC Driver 17 for SQL Server};SERVER=dagger;DATABASE=test;Trusted_Connection\"\n",
    "# connection_url = URL.create(\"mssql+pyodbc\", query={\"odbc_connect\": connection_string})\n",
    "\n",
    "def db_connection(server_name, db=''):\n",
    "\n",
    "    str_connection = 'Driver={SQL Server};Server=' + str(server_name) + '; Trusted_Connection=yes; Database=' + str(db)\n",
    "    conn = pyodbc.connect(str_connection)    \n",
    "    cursor = conn.cursor()\n",
    "\n",
    "    return cursor\n",
    "\n",
    "# Function to get the list of DBs from the server.\n",
    "def db_list(server_name):\n",
    "\n",
    "    cursor = db_connection(server_name)\n",
    "\n",
    "    #SQL command to get the list of DBs name.\n",
    "    cursor.execute(\"select name from sys.databases\")\n",
    "    db_list = []\n",
    "    rows = cursor.fetchall()\n",
    "    for row in rows:\n",
    "        db_list.append(str(row[0]))\n",
    "\n",
    "    # Return the list from 4th element because the 4 \n",
    "    # first elements are standard from the SQL Server.\n",
    "    return db_list[4::]\n",
    "\n",
    "# Function to get the list of tables name.\n",
    "def table_list(server_name, db):\n",
    "    \n",
    "    cursor = db_connection(server_name, db)\n",
    "    # SQL command to get the list of tables name.\n",
    "    cursor.execute('SELECT TABLE_NAME FROM INFORMATION_SCHEMA.TABLES')\n",
    "    table_list = []\n",
    "    rows = cursor.fetchall()\n",
    "    for row in rows:\n",
    "        table_list.append(str(row[0]))\n",
    "\n",
    "    # Return list of tables name and server name (cluster format)\n",
    "    out = (table_list, server_name)   \n",
    "    return out\n",
    "\n",
    "def columns_list(server_name, db, table_name):\n",
    "    cursor = db_connection(server_name, db)\n",
    "    # SQL Command to select the table.\n",
    "    cursor.execute(\"SELECT * FROM {}\".format(str(table_name)))\n",
    "    # Get the list of columns name from the table selected\n",
    "    columns_list = [column[0] for column in cursor.description]\n",
    "      \n",
    "    return columns_list\n",
    "\n",
    "# Function select data from DB, Table using filter condition.\n",
    "def filter_table(server_name, db, table ,conditions=['']):\n",
    "#     conditions is a list of strings, eg. conditions=['Run_ID=513221544']\n",
    "\n",
    "    cursor = db_connection(server_name, db)\n",
    "#     print(conditions)\n",
    "    if len(conditions) == 0:\n",
    "        # SQL Command to select the table and grab all the data.\n",
    "        cursor.execute(\"SELECT * FROM {}\".format(str(table)))\n",
    "\n",
    "    else:\n",
    "        condition = \"\"\n",
    "        for i in range(len(conditions)):\n",
    "            if i + 1 == len(conditions):\n",
    "                condition = condition + str(conditions[i])\n",
    "            else:\n",
    "                condition = condition + str(conditions[i]) + \" And \"\n",
    "        # SQL Command to select the table and filter by condition\n",
    "        cursor.execute(\"SELECT * FROM {} WHERE {}\".format(str(table),str(condition)))\n",
    "\n",
    "#         rows is a list of tuples\n",
    "    rows = cursor.fetchall()\n",
    "    \n",
    "    data = []\n",
    "    for row in rows:        \n",
    "        sub_data = []\n",
    "        for x in row:\n",
    "            x = str(x).replace(\"\\r\\n\", \"\")\n",
    "            sub_data.append(x)\n",
    "        data.append(sub_data)\n",
    "    return data\n",
    "\n",
    "def sql_query(server, db, tbl, sql):\n",
    "    cursor = db_connection(server_name, db)\n",
    "    cursor.execute(sql)\n",
    "    rows = cursor.fetchall()\n",
    "    data = []\n",
    "    for row in rows:        \n",
    "        sub_data = []\n",
    "        for x in row:\n",
    "            x = str(x).replace(\"\\r\\n\", \"\")\n",
    "            sub_data.append(x)\n",
    "        data.append(sub_data)\n",
    "    return data\n",
    "\n",
    "def fetch_data(server_name, db, tbl, sql):\n",
    "    str_connection = 'Driver={SQL Server};Server=' + str(server_name) + '; Trusted_Connection=yes; Database=' + str(db)\n",
    "    conn = pyodbc.connect(str_connection)\n",
    "#     sql = 'select * from TX07___ST_Attn_Sweep_vi where Run_ID = 503220929'\n",
    "    data = pd.read_sql(sql, conn)\n",
    "    return fetch_data\n",
    "\n",
    "def convert_to_list(data):\n",
    "    l = []\n",
    "    for e in data:\n",
    "        l.append(e[0])\n",
    "    return l\n",
    "\n"
   ]
  },
  {
   "cell_type": "code",
   "execution_count": 3,
   "id": "38528b13",
   "metadata": {},
   "outputs": [],
   "source": [
    "# Specify server name\n",
    "server_name = 'WILMSQL19DEV11'"
   ]
  },
  {
   "cell_type": "markdown",
   "id": "abed7ed0",
   "metadata": {},
   "source": [
    "## Tabulate all the *databases* hosted on the server ##"
   ]
  },
  {
   "cell_type": "markdown",
   "id": "665dcbaf",
   "metadata": {},
   "source": [
    "The table below shows all databases currently hosted by the server 'WILMSQL19DEV11'."
   ]
  },
  {
   "cell_type": "code",
   "execution_count": 4,
   "id": "373f7a00",
   "metadata": {},
   "outputs": [
    {
     "data": {
      "text/html": [
       "<div>\n",
       "<style scoped>\n",
       "    .dataframe tbody tr th:only-of-type {\n",
       "        vertical-align: middle;\n",
       "    }\n",
       "\n",
       "    .dataframe tbody tr th {\n",
       "        vertical-align: top;\n",
       "    }\n",
       "\n",
       "    .dataframe thead th {\n",
       "        text-align: right;\n",
       "    }\n",
       "</style>\n",
       "<table border=\"1\" class=\"dataframe\">\n",
       "  <thead>\n",
       "    <tr style=\"text-align: right;\">\n",
       "      <th></th>\n",
       "      <th>Databases</th>\n",
       "    </tr>\n",
       "  </thead>\n",
       "  <tbody>\n",
       "    <tr>\n",
       "      <th>0</th>\n",
       "      <td>SVB</td>\n",
       "    </tr>\n",
       "    <tr>\n",
       "      <th>1</th>\n",
       "      <td>Development</td>\n",
       "    </tr>\n",
       "    <tr>\n",
       "      <th>2</th>\n",
       "      <td>Nevis_Dev</td>\n",
       "    </tr>\n",
       "    <tr>\n",
       "      <th>3</th>\n",
       "      <td>Nevis_SVB</td>\n",
       "    </tr>\n",
       "    <tr>\n",
       "      <th>4</th>\n",
       "      <td>Polaris_Dev</td>\n",
       "    </tr>\n",
       "    <tr>\n",
       "      <th>5</th>\n",
       "      <td>Polaris_SVB</td>\n",
       "    </tr>\n",
       "    <tr>\n",
       "      <th>6</th>\n",
       "      <td>Navassa_Dev</td>\n",
       "    </tr>\n",
       "    <tr>\n",
       "      <th>7</th>\n",
       "      <td>Navassa_SVB</td>\n",
       "    </tr>\n",
       "    <tr>\n",
       "      <th>8</th>\n",
       "      <td>RTN_Samples</td>\n",
       "    </tr>\n",
       "  </tbody>\n",
       "</table>\n",
       "</div>"
      ],
      "text/plain": [
       "     Databases\n",
       "0          SVB\n",
       "1  Development\n",
       "2    Nevis_Dev\n",
       "3    Nevis_SVB\n",
       "4  Polaris_Dev\n",
       "5  Polaris_SVB\n",
       "6  Navassa_Dev\n",
       "7  Navassa_SVB\n",
       "8  RTN_Samples"
      ]
     },
     "metadata": {},
     "output_type": "display_data"
    }
   ],
   "source": [
    "# List all databases in a server\n",
    "# print(\"A list of all the databases hosted by the server:\")\n",
    "dbs = db_list(server_name)\n",
    "df = pd.DataFrame(dbs, columns=['Databases'])\n",
    "display(df)"
   ]
  },
  {
   "cell_type": "code",
   "execution_count": 5,
   "id": "4dc848e0",
   "metadata": {},
   "outputs": [],
   "source": [
    "# Specify database name\n",
    "db_name = 'Polaris_Dev'"
   ]
  },
  {
   "cell_type": "markdown",
   "id": "cb0abaf0",
   "metadata": {},
   "source": [
    "## Tabulate all the *tables* in the database ##"
   ]
  },
  {
   "cell_type": "markdown",
   "id": "545a3969",
   "metadata": {},
   "source": [
    "The table below shows all the tables in the selected database."
   ]
  },
  {
   "cell_type": "code",
   "execution_count": 6,
   "id": "0c95faae",
   "metadata": {},
   "outputs": [
    {
     "data": {
      "text/html": [
       "<div>\n",
       "<style scoped>\n",
       "    .dataframe tbody tr th:only-of-type {\n",
       "        vertical-align: middle;\n",
       "    }\n",
       "\n",
       "    .dataframe tbody tr th {\n",
       "        vertical-align: top;\n",
       "    }\n",
       "\n",
       "    .dataframe thead th {\n",
       "        text-align: right;\n",
       "    }\n",
       "</style>\n",
       "<table border=\"1\" class=\"dataframe\">\n",
       "  <thead>\n",
       "    <tr style=\"text-align: right;\">\n",
       "      <th></th>\n",
       "      <th>Tables</th>\n",
       "    </tr>\n",
       "  </thead>\n",
       "  <tbody>\n",
       "    <tr>\n",
       "      <th>0</th>\n",
       "      <td>PS_Measurement_PVT2</td>\n",
       "    </tr>\n",
       "    <tr>\n",
       "      <th>1</th>\n",
       "      <td>PS_Measurement_PVT</td>\n",
       "    </tr>\n",
       "    <tr>\n",
       "      <th>2</th>\n",
       "      <td>RX1_ST_Gain_Sweep_PVT</td>\n",
       "    </tr>\n",
       "    <tr>\n",
       "      <th>3</th>\n",
       "      <td>RX7_Intermod_PVT</td>\n",
       "    </tr>\n",
       "    <tr>\n",
       "      <th>4</th>\n",
       "      <td>RX1_ST_Gain_Sweep</td>\n",
       "    </tr>\n",
       "    <tr>\n",
       "      <th>5</th>\n",
       "      <td>RX3_ST_HD2_Sweep</td>\n",
       "    </tr>\n",
       "    <tr>\n",
       "      <th>6</th>\n",
       "      <td>RX4_ST_HD3_Sweep</td>\n",
       "    </tr>\n",
       "    <tr>\n",
       "      <th>7</th>\n",
       "      <td>RX5_Self_Spur_Response</td>\n",
       "    </tr>\n",
       "    <tr>\n",
       "      <th>8</th>\n",
       "      <td>RX6_Chan_Iso</td>\n",
       "    </tr>\n",
       "    <tr>\n",
       "      <th>9</th>\n",
       "      <td>RX7_Intermod</td>\n",
       "    </tr>\n",
       "    <tr>\n",
       "      <th>10</th>\n",
       "      <td>PS_Measurement</td>\n",
       "    </tr>\n",
       "    <tr>\n",
       "      <th>11</th>\n",
       "      <td>RX7_Intermod_PVT2</td>\n",
       "    </tr>\n",
       "  </tbody>\n",
       "</table>\n",
       "</div>"
      ],
      "text/plain": [
       "                    Tables\n",
       "0      PS_Measurement_PVT2\n",
       "1       PS_Measurement_PVT\n",
       "2    RX1_ST_Gain_Sweep_PVT\n",
       "3         RX7_Intermod_PVT\n",
       "4        RX1_ST_Gain_Sweep\n",
       "5         RX3_ST_HD2_Sweep\n",
       "6         RX4_ST_HD3_Sweep\n",
       "7   RX5_Self_Spur_Response\n",
       "8             RX6_Chan_Iso\n",
       "9             RX7_Intermod\n",
       "10          PS_Measurement\n",
       "11       RX7_Intermod_PVT2"
      ]
     },
     "metadata": {},
     "output_type": "display_data"
    }
   ],
   "source": [
    "# List all tables in the database\n",
    "# print(\"A list of all tables in the database:\")\n",
    "tables = table_list(server_name, db_name)[0]\n",
    "df = pd.DataFrame(tables, columns = ['Tables'])\n",
    "display(df)"
   ]
  },
  {
   "cell_type": "markdown",
   "id": "1f89c8ba",
   "metadata": {},
   "source": [
    "## RX1 ST Gain Sweep"
   ]
  },
  {
   "cell_type": "markdown",
   "id": "bb7d97c9",
   "metadata": {},
   "source": [
    "Description of Test"
   ]
  },
  {
   "cell_type": "code",
   "execution_count": 7,
   "id": "324f77e6",
   "metadata": {},
   "outputs": [],
   "source": [
    "# specify table name\n",
    "table_name = 'RX1_ST_Gain_Sweep'"
   ]
  },
  {
   "cell_type": "markdown",
   "id": "27a3de40",
   "metadata": {},
   "source": [
    "Show total number of rows in the table"
   ]
  },
  {
   "cell_type": "code",
   "execution_count": 8,
   "id": "5a660ba4",
   "metadata": {
    "scrolled": true
   },
   "outputs": [
    {
     "name": "stdout",
     "output_type": "stream",
     "text": [
      "Total number of rows =  7440\n"
     ]
    }
   ],
   "source": [
    "# Total number of rows in the table\n",
    "sql = 'SELECT COUNT(id) as count_row from ' + table_name\n",
    "num_of_rows = sql_query(server_name, db_name, table_name, sql)\n",
    "print(\"Total number of rows = \", num_of_rows[0][0])"
   ]
  },
  {
   "cell_type": "markdown",
   "id": "3f839973",
   "metadata": {},
   "source": [
    "Enumerate all API versions in the table"
   ]
  },
  {
   "cell_type": "code",
   "execution_count": 9,
   "id": "53b45d53",
   "metadata": {
    "scrolled": true
   },
   "outputs": [
    {
     "data": {
      "text/html": [
       "<div>\n",
       "<style scoped>\n",
       "    .dataframe tbody tr th:only-of-type {\n",
       "        vertical-align: middle;\n",
       "    }\n",
       "\n",
       "    .dataframe tbody tr th {\n",
       "        vertical-align: top;\n",
       "    }\n",
       "\n",
       "    .dataframe thead th {\n",
       "        text-align: right;\n",
       "    }\n",
       "</style>\n",
       "<table border=\"1\" class=\"dataframe\">\n",
       "  <thead>\n",
       "    <tr style=\"text-align: right;\">\n",
       "      <th></th>\n",
       "      <th>API Rev</th>\n",
       "    </tr>\n",
       "  </thead>\n",
       "  <tbody>\n",
       "    <tr>\n",
       "      <th>0</th>\n",
       "      <td>0</td>\n",
       "    </tr>\n",
       "  </tbody>\n",
       "</table>\n",
       "</div>"
      ],
      "text/plain": [
       "  API Rev\n",
       "0       0"
      ]
     },
     "metadata": {},
     "output_type": "display_data"
    }
   ],
   "source": [
    "# Show all API versions available in the table\n",
    "sql = 'select DISTINCT API_Rev from ' + table_name\n",
    "api_versions = sql_query(server_name, db_name, table_name, sql)\n",
    "# convert to dataframe for user-friendly display\n",
    "df = pd.DataFrame(api_versions, columns = ['API Rev'])\n",
    "display(df)"
   ]
  },
  {
   "cell_type": "markdown",
   "id": "825e8bf7",
   "metadata": {},
   "source": [
    "Show an interactive pivot chart with data from the selected table loaded"
   ]
  },
  {
   "cell_type": "markdown",
   "id": "c6245222",
   "metadata": {},
   "source": [
    "### Plot 1. RX1 Gain Delta"
   ]
  },
  {
   "cell_type": "code",
   "execution_count": 10,
   "id": "614a1e3b",
   "metadata": {
    "scrolled": false
   },
   "outputs": [
    {
     "data": {
      "text/html": [
       "\n",
       "        <iframe\n",
       "            width=\"100%\"\n",
       "            height=\"500\"\n",
       "            src=\"RX1_Gain_Delta_pivot.html\"\n",
       "            frameborder=\"0\"\n",
       "            allowfullscreen\n",
       "            \n",
       "        ></iframe>\n",
       "        "
      ],
      "text/plain": [
       "<IPython.lib.display.IFrame at 0x23a786ab280>"
      ]
     },
     "execution_count": 10,
     "metadata": {},
     "output_type": "execute_result"
    }
   ],
   "source": [
    "conditions = []\n",
    "data = filter_table(server_name, db_name, table_name, conditions)\n",
    "\n",
    "cols = columns_list(server_name, db_name, table_name)\n",
    "df = pd.DataFrame(data, columns = cols)\n",
    "# plot1 - RX1 Gain Delta Vs Gain Index\n",
    "pivot_ui(df, rows=['Band','Channel','Set Temp', 'Dut_Id'], cols=['Gain Index'], aggregatorName=['Sum'], hiddenFromDragDrop=['Col1','Col2',\n",
    "         'Col3','Col4','Col5','Test_Mode','Power_Mode','Use_Case','I GnDelta','Q GnDelta','C GnDelta','I Gain', 'Q Gain', 'C Gain',\n",
    "        'Noise Figure', 'Noise Power','SNR','NF Delta'],\n",
    "         rendererName=['Line Chart'], vals=['C GnDelta','Q GnDelta','I GnDelta'], outfile_path='RX1_Gain_Delta_pivot.html', \n",
    "          rendererOptions = {\"c3\": {\"size\":{\"width\":600, \"height\":300}, \"legend\":{\"hide\": True}}})  "
   ]
  },
  {
   "cell_type": "code",
   "execution_count": 11,
   "id": "b9fd7596",
   "metadata": {
    "scrolled": false
   },
   "outputs": [
    {
     "data": {
      "text/html": [
       "\n",
       "        <iframe\n",
       "            width=\"100%\"\n",
       "            height=\"500\"\n",
       "            src=\"RX1_Absolute_Gain.html\"\n",
       "            frameborder=\"0\"\n",
       "            allowfullscreen\n",
       "            \n",
       "        ></iframe>\n",
       "        "
      ],
      "text/plain": [
       "<IPython.lib.display.IFrame at 0x23a786abe50>"
      ]
     },
     "execution_count": 11,
     "metadata": {},
     "output_type": "execute_result"
    }
   ],
   "source": [
    "conditions = []\n",
    "data = filter_table(server_name, db_name, table_name, conditions)\n",
    "\n",
    "cols = columns_list(server_name, db_name, table_name)\n",
    "df = pd.DataFrame(data, columns = cols)\n",
    "\n",
    "# plot2 - RX1 Absolute Gain Vs Gain Index\n",
    "pivot_ui(df, rows=['Band','Channel','Set Temp','Dut_Id'], cols=['Gain Index'], aggregatorName=['Sum'],hiddenFromDragDrop=['Col1','Col2',\n",
    "         'Col3','Col4','Col5','Test_Mode','Power_Mode','Use_Case','I GnDelta','Q GnDelta','C GnDelta','I Gain', 'Q Gain', 'C Gain',\n",
    "        'Noise Figure', 'Noise Power','SNR','NF Delta'],\n",
    "          rendererName=['Line Chart'], vals=['C Gain','Q Gain','I Gain' ], outfile_path='RX1_Absolute_Gain.html',\n",
    "          rendererOptions = {\"c3\": {\"size\":{\"width\":600, \"height\":300}, \"legend\":{\"hide\": True}}})\n"
   ]
  },
  {
   "cell_type": "markdown",
   "id": "7ac794d4",
   "metadata": {},
   "source": [
    "### Plot 3. RX1 NF vs Gidx"
   ]
  },
  {
   "cell_type": "code",
   "execution_count": 12,
   "id": "40a845ad",
   "metadata": {},
   "outputs": [
    {
     "data": {
      "text/html": [
       "\n",
       "        <iframe\n",
       "            width=\"100%\"\n",
       "            height=\"500\"\n",
       "            src=\"RX1_NF_vs_Gidx.html\"\n",
       "            frameborder=\"0\"\n",
       "            allowfullscreen\n",
       "            \n",
       "        ></iframe>\n",
       "        "
      ],
      "text/plain": [
       "<IPython.lib.display.IFrame at 0x23a789d87f0>"
      ]
     },
     "execution_count": 12,
     "metadata": {},
     "output_type": "execute_result"
    }
   ],
   "source": [
    "conditions = []\n",
    "data = filter_table(server_name, db_name, table_name, conditions)\n",
    "\n",
    "cols = columns_list(server_name, db_name, table_name)\n",
    "df = pd.DataFrame(data, columns = cols)\n",
    "\n",
    "# plot3 - RX1 Noise Figure Vs Gain Index\n",
    "pivot_ui(df, rows=['Band','Channel','Set Temp', 'Dut_Id'], cols=['Gain Index'], aggregatorName=['Sum'],hiddenFromDragDrop=['Col1','Col2',\n",
    "         'Col3','Col4','Col5','Test_Mode','Power_Mode','Use_Case','I GnDelta','Q GnDelta','C GnDelta','I Gain', 'Q Gain', 'C Gain',\n",
    "        'Noise Figure', 'Noise Power','SNR','NF Delta'],\n",
    "         rendererName=['Line Chart'],vals=['Noise Figure'], outfile_path='RX1_NF_vs_Gidx.html',\n",
    "         rendererOptions = {\"c3\": {\"size\":{\"width\":600, \"height\":300}, \"legend\":{\"hide\": True}}})    "
   ]
  },
  {
   "cell_type": "markdown",
   "id": "b40076b5",
   "metadata": {},
   "source": [
    "### Plot 4. RX1 NF vs Gain"
   ]
  },
  {
   "cell_type": "code",
   "execution_count": 13,
   "id": "e3d28fe7",
   "metadata": {},
   "outputs": [],
   "source": [
    "# conditions = []\n",
    "# data = filter_table(server_name, db_name, table_name, conditions)\n",
    "\n",
    "# cols = columns_list(server_name, db_name, table_name)\n",
    "# df = pd.DataFrame(data, columns = cols)\n",
    "\n",
    "# # plot4 - RX1 Noise Figure Vs Gain\n",
    "# pivot_ui(df, rows=['Band','Channel','Set Temp','Dut_Id'], cols=['C Gain'], aggregatorName=['Sum'],hiddenFromDragDrop=['Col1','Col2',\n",
    "#          'Col3','Col4','Col5','Test_Mode','Power_Mode','Use_Case','I GnDelta','Q GnDelta','C GnDelta','I Gain', 'Q Gain',\n",
    "#         'Noise Figure', 'Noise Power','SNR','NF Delta'],\n",
    "#           rendererName=['Line Chart'],vals=['Noise Figure'], outfile_path='RX1_NF_vs_Gain.html',\n",
    "#           rendererOptions = {\"c3\": {\"size\":{\"width\":600, \"height\":300}, \"legend\":{\"hide\": True}}})    "
   ]
  },
  {
   "cell_type": "markdown",
   "id": "3cb146fe",
   "metadata": {},
   "source": [
    "### Plot 5. RX1 SNR vs Gidx"
   ]
  },
  {
   "cell_type": "code",
   "execution_count": 14,
   "id": "c784edbd",
   "metadata": {},
   "outputs": [
    {
     "data": {
      "text/html": [
       "\n",
       "        <iframe\n",
       "            width=\"100%\"\n",
       "            height=\"500\"\n",
       "            src=\"RX1_SNR_vs_Gidx.html\"\n",
       "            frameborder=\"0\"\n",
       "            allowfullscreen\n",
       "            \n",
       "        ></iframe>\n",
       "        "
      ],
      "text/plain": [
       "<IPython.lib.display.IFrame at 0x23a789d88b0>"
      ]
     },
     "execution_count": 14,
     "metadata": {},
     "output_type": "execute_result"
    }
   ],
   "source": [
    "conditions = []\n",
    "data = filter_table(server_name, db_name, table_name, conditions)\n",
    "\n",
    "cols = columns_list(server_name, db_name, table_name)\n",
    "df = pd.DataFrame(data, columns = cols)\n",
    "\n",
    "# plot5 - RX1 SNR Vs Gain Index\n",
    "pivot_ui(df, rows=['Band','Channel','Set Temp','Dut_Id'], cols=['Gain Index'], aggregatorName=['Sum'],hiddenFromDragDrop=['Col1','Col2',\n",
    "         'Col3','Col4','Col5','Test_Mode','Power_Mode','Use_Case','I GnDelta','Q GnDelta','C GnDelta','I Gain', 'Q Gain', 'C Gain',\n",
    "        'Noise Figure', 'Noise Power','SNR','NF Delta'],\n",
    "         rendererName=['Line Chart'],vals=['SNR'], outfile_path='RX1_SNR_vs_Gidx.html',\n",
    "         rendererOptions = {\"c3\": {\"size\":{\"width\":600, \"height\":300}, \"legend\":{\"hide\": True}}})    "
   ]
  },
  {
   "cell_type": "markdown",
   "id": "ee03adc7",
   "metadata": {},
   "source": [
    "### Plot 2. RX1 Absolute Gain\n",
    "Click the link below to open the interactive pivot chart.\n",
    "[RX1 Absolute Gain vs Gidx](files/RX1_Absolute_Gain.html)"
   ]
  },
  {
   "cell_type": "markdown",
   "id": "ea62165d",
   "metadata": {},
   "source": [
    "## RX7 Intermods IIP3"
   ]
  },
  {
   "cell_type": "code",
   "execution_count": 15,
   "id": "22b1b149",
   "metadata": {},
   "outputs": [],
   "source": [
    "# specify table name\n",
    "table_name = 'RX7_Intermod'"
   ]
  },
  {
   "cell_type": "markdown",
   "id": "4f93a64f",
   "metadata": {},
   "source": [
    "Show an interactive pivot chart with data from the selected table loaded"
   ]
  },
  {
   "cell_type": "code",
   "execution_count": 16,
   "id": "3139aa1a",
   "metadata": {},
   "outputs": [
    {
     "name": "stdout",
     "output_type": "stream",
     "text": [
      "RX7_Intermod\n"
     ]
    },
    {
     "data": {
      "text/html": [
       "\n",
       "        <iframe\n",
       "            width=\"100%\"\n",
       "            height=\"500\"\n",
       "            src=\"RX7_IMD3_High.html\"\n",
       "            frameborder=\"0\"\n",
       "            allowfullscreen\n",
       "            \n",
       "        ></iframe>\n",
       "        "
      ],
      "text/plain": [
       "<IPython.lib.display.IFrame at 0x23a789d8e50>"
      ]
     },
     "execution_count": 16,
     "metadata": {},
     "output_type": "execute_result"
    }
   ],
   "source": [
    "print(table_name)\n",
    "\n",
    "# fetcg data and store in dataframe df\n",
    "conditions = []\n",
    "data = filter_table(server_name, db_name, table_name, conditions)\n",
    "\n",
    "cols = columns_list(server_name, db_name, table_name)\n",
    "df = pd.DataFrame(data, columns = cols)\n",
    "\n",
    "# plot1 - IMD3 High\n",
    "pivot_ui(df, rows=['Band', 'Channel','Gain Index','Set Temp','Dut_Id'], cols=['Input Pwr'], aggregatorName=['Sum'],hiddenFromDragDrop=['Col1','Col2',\n",
    "         'Col3','Col4','Col5','CH1 Band Center','CH2 Band Center','Use_Case','CH3 Band Center ','CH4 Band Center','SG1 Offset dB','SG2 Offset dB', 'Pin', 'IMD3 High',\n",
    "        'IMD3 Low','IIP3 Low','IIP3 High','F1 Pwr ','F2 Pwr','F1 Hz','F2 Hz','2F1-F2 Pwr','2F2-F1 Pwr','2F1-F2 Hz','2F2-F1 Hz','Power_Mode','Test_Mode', 'Gain Index'],\n",
    "         rendererName=['Line Chart'], vals=['IMD3 High'], outfile_path='RX7_IMD3_High.html',\n",
    "         rendererOptions = {\"c3\": {\"size\":{\"width\":600, \"height\":300}, \"legend\":{\"hide\": True}}})        "
   ]
  },
  {
   "cell_type": "code",
   "execution_count": 17,
   "id": "3995d37f",
   "metadata": {},
   "outputs": [
    {
     "name": "stdout",
     "output_type": "stream",
     "text": [
      "RX7_Intermod\n"
     ]
    },
    {
     "data": {
      "text/html": [
       "\n",
       "        <iframe\n",
       "            width=\"100%\"\n",
       "            height=\"500\"\n",
       "            src=\"RX7_IMD3_Low.html\"\n",
       "            frameborder=\"0\"\n",
       "            allowfullscreen\n",
       "            \n",
       "        ></iframe>\n",
       "        "
      ],
      "text/plain": [
       "<IPython.lib.display.IFrame at 0x23a7989c490>"
      ]
     },
     "execution_count": 17,
     "metadata": {},
     "output_type": "execute_result"
    }
   ],
   "source": [
    "print(table_name)\n",
    "\n",
    "# fetcg data and store in dataframe df\n",
    "conditions = []\n",
    "data = filter_table(server_name, db_name, table_name, conditions)\n",
    "\n",
    "cols = columns_list(server_name, db_name, table_name)\n",
    "df = pd.DataFrame(data, columns = cols)\n",
    "\n",
    "# plot2 - IMD3 Low\n",
    "pivot_ui(df, rows=['Band', 'Channel','Gain Index','Set Temp','Dut_Id'], cols=['Input Pwr'], aggregatorName=['Sum'],hiddenFromDragDrop=['Col1','Col2',\n",
    "         'Col3','Col4','Col5','CH1 Band Center','CH2 Band Center','Use_Case','CH3 Band Center ','CH4 Band Center','SG1 Offset dB','SG2 Offset dB', 'Pin', 'IMD3 High',\n",
    "        'IMD3 Low','IIP3 Low','IIP3 High','F1 Pwr ','F2 Pwr','F1 Hz','F2 Hz','2F1-F2 Pwr','2F2-F1 Pwr','2F1-F2 Hz','2F2-F1 Hz','Power_Mode','Test_Mode', 'Gain Index'],\n",
    "         rendererName=['Line Chart'], vals=['IMD3 Low'], outfile_path='RX7_IMD3_Low.html',\n",
    "         rendererOptions = {\"c3\": {\"size\":{\"width\":600, \"height\":300}, \"legend\":{\"hide\": True}}})"
   ]
  },
  {
   "cell_type": "code",
   "execution_count": 18,
   "id": "7b88f7e9",
   "metadata": {},
   "outputs": [
    {
     "name": "stdout",
     "output_type": "stream",
     "text": [
      "RX7_Intermod\n"
     ]
    },
    {
     "data": {
      "text/html": [
       "\n",
       "        <iframe\n",
       "            width=\"100%\"\n",
       "            height=\"500\"\n",
       "            src=\"RX7_IIP3_High.html\"\n",
       "            frameborder=\"0\"\n",
       "            allowfullscreen\n",
       "            \n",
       "        ></iframe>\n",
       "        "
      ],
      "text/plain": [
       "<IPython.lib.display.IFrame at 0x23a789d8ee0>"
      ]
     },
     "execution_count": 18,
     "metadata": {},
     "output_type": "execute_result"
    }
   ],
   "source": [
    "print(table_name)\n",
    "\n",
    "# fetcg data and store in dataframe df\n",
    "conditions = []\n",
    "data = filter_table(server_name, db_name, table_name, conditions)\n",
    "\n",
    "cols = columns_list(server_name, db_name, table_name)\n",
    "df = pd.DataFrame(data, columns = cols)\n",
    "\n",
    "# plot3 - IIP3 High\n",
    "pivot_ui(df, rows=['Band', 'Channel','Gain Index','Set Temp','Dut_Id'], cols=['Input Pwr'], aggregatorName=['Sum'],hiddenFromDragDrop=['Col1','Col2',\n",
    "         'Col3','Col4','Col5','CH1 Band Center','CH2 Band Center','Use_Case','CH3 Band Center ','CH4 Band Center','SG1 Offset dB','SG2 Offset dB', 'Pin', 'IMD3 High',\n",
    "        'IMD3 Low','IIP3 Low','IIP3 High','F1 Pwr ','F2 Pwr','F1 Hz','F2 Hz','2F1-F2 Pwr','2F2-F1 Pwr','2F1-F2 Hz','2F2-F1 Hz','Power_Mode','Test_Mode', 'Gain Index'],\n",
    "         rendererName=['Line Chart'], vals=['IIP3 High'], outfile_path='RX7_IIP3_High.html',\n",
    "         rendererOptions = {\"c3\": {\"size\":{\"width\":600, \"height\":300}, \"legend\":{\"hide\": True}}})"
   ]
  },
  {
   "cell_type": "code",
   "execution_count": 19,
   "id": "dea19111",
   "metadata": {
    "scrolled": false
   },
   "outputs": [
    {
     "name": "stdout",
     "output_type": "stream",
     "text": [
      "RX7_Intermod\n"
     ]
    },
    {
     "data": {
      "text/html": [
       "\n",
       "        <iframe\n",
       "            width=\"100%\"\n",
       "            height=\"500\"\n",
       "            src=\"RX7_IIP3_Low.html\"\n",
       "            frameborder=\"0\"\n",
       "            allowfullscreen\n",
       "            \n",
       "        ></iframe>\n",
       "        "
      ],
      "text/plain": [
       "<IPython.lib.display.IFrame at 0x23a7989cc10>"
      ]
     },
     "execution_count": 19,
     "metadata": {},
     "output_type": "execute_result"
    }
   ],
   "source": [
    "print(table_name)\n",
    "\n",
    "# fetcg data and store in dataframe df\n",
    "conditions = []\n",
    "data = filter_table(server_name, db_name, table_name, conditions)\n",
    "\n",
    "cols = columns_list(server_name, db_name, table_name)\n",
    "df = pd.DataFrame(data, columns = cols)\n",
    "\n",
    "# plot3 - IIP3 Low\n",
    "pivot_ui(df, rows=['Band', 'Channel','Gain Index','Set Temp','Dut_Id'], cols=['Input Pwr'], aggregatorName=['Sum'],hiddenFromDragDrop=['Col1','Col2',\n",
    "         'Col3','Col4','Col5','CH1 Band Center','CH2 Band Center','Use_Case','CH3 Band Center ','CH4 Band Center','SG1 Offset dB','SG2 Offset dB', 'Pin', 'IMD3 High',\n",
    "        'IMD3 Low','IIP3 Low','IIP3 High','F1 Pwr ','F2 Pwr','F1 Hz','F2 Hz','2F1-F2 Pwr','2F2-F1 Pwr','2F1-F2 Hz','2F2-F1 Hz','Power_Mode','Test_Mode', 'Gain Index'],\n",
    "         rendererName=['Line Chart'], vals=['IIP3 Low'], outfile_path='RX7_IIP3_Low.html',\n",
    "         rendererOptions = {\"c3\": {\"size\":{\"width\":600, \"height\":300}, \"legend\":{\"hide\": True}}})"
   ]
  },
  {
   "cell_type": "markdown",
   "id": "a92fdac2",
   "metadata": {},
   "source": [
    "### Plot 1. IIMD3 High vs Input Pwr\n",
    "Click the link below to open the interactive pivot chart.\n",
    "[RX7 IMD3 High](files/RX7_IMD3_High.html)\n",
    "### Plot 2. IIMD3 Low vs Input Pwr\n",
    "Click the link below to open the interactive pivot chart.\n",
    "[RX7 IMD3 Low](files/RX7_IMD3_Low.html)\n",
    "### Plot 3. IIP3 High vs Input Pwr\n",
    "Click the link below to open the interactive pivot chart.\n",
    "[RX7 IIP3 High](files/RX7_IIP3_High.html)\n",
    "### Plot 4. IIP3 Low vs Input Pwr\n",
    "Click the link below to open the interactive pivot chart.\n",
    "[RX7 IIP3 Low](files/RX7_IIP3_Low.html)"
   ]
  },
  {
   "cell_type": "markdown",
   "id": "e62e6bd7",
   "metadata": {},
   "source": [
    "## RX3 ST HD3 Sweep"
   ]
  },
  {
   "cell_type": "markdown",
   "id": "2e24fe0e",
   "metadata": {},
   "source": [
    "Add Description of Test"
   ]
  },
  {
   "cell_type": "code",
   "execution_count": 20,
   "id": "0ad25222",
   "metadata": {},
   "outputs": [],
   "source": [
    "# specify table name\n",
    "table_name = 'RX4_ST_HD3_Sweep'"
   ]
  },
  {
   "cell_type": "markdown",
   "id": "f025f86f",
   "metadata": {},
   "source": [
    "Show an interactive pivot chart with data from the selected table loaded"
   ]
  },
  {
   "cell_type": "code",
   "execution_count": 21,
   "id": "08c86d0b",
   "metadata": {},
   "outputs": [
    {
     "data": {
      "text/html": [
       "\n",
       "        <iframe\n",
       "            width=\"100%\"\n",
       "            height=\"500\"\n",
       "            src=\"RX4_HD3.html\"\n",
       "            frameborder=\"0\"\n",
       "            allowfullscreen\n",
       "            \n",
       "        ></iframe>\n",
       "        "
      ],
      "text/plain": [
       "<IPython.lib.display.IFrame at 0x23a7989cf70>"
      ]
     },
     "execution_count": 21,
     "metadata": {},
     "output_type": "execute_result"
    }
   ],
   "source": [
    "\n",
    "conditions = []\n",
    "data = filter_table(server_name, db_name, table_name, conditions)\n",
    "\n",
    "cols = columns_list(server_name, db_name, table_name)\n",
    "df = pd.DataFrame(data, columns = cols)\n",
    "# plot1 - IMD3 High\n",
    "pivot_ui(df, rows=['Band', 'HD3 Fout','Set Temp'], cols=['Channel'], aggregatorName=['Sum'],\n",
    "         rendererName=['Bar Chart'], vals=['HD3 dBc'], outfile_path='RX4_HD3.html',\n",
    "         rendererOptions = {\"c3\": {\"legend\": {\"hide\": ['Band', 'HD3 Fout','Set Temp']}}})\n",
    "    "
   ]
  },
  {
   "cell_type": "markdown",
   "id": "d6c8eb1b",
   "metadata": {},
   "source": [
    "### Plot 1.HD3 Pout dBc\n",
    "Click the link below to open the interactive pivot chart.\n",
    "[RX3 HD3](files/RX4_HD3.html)"
   ]
  },
  {
   "cell_type": "markdown",
   "id": "1fae86bb",
   "metadata": {},
   "source": []
  },
  {
   "cell_type": "markdown",
   "id": "3e062a27",
   "metadata": {},
   "source": []
  }
 ],
 "metadata": {
  "hide_input": true,
  "kernelspec": {
   "display_name": "Python 3 (ipykernel)",
   "language": "python",
   "name": "python3"
  },
  "language_info": {
   "codemirror_mode": {
    "name": "ipython",
    "version": 3
   },
   "file_extension": ".py",
   "mimetype": "text/x-python",
   "name": "python",
   "nbconvert_exporter": "python",
   "pygments_lexer": "ipython3",
   "version": "3.8.10"
  },
  "toc": {
   "base_numbering": 1,
   "nav_menu": {
    "height": "356px",
    "width": "423px"
   },
   "number_sections": true,
   "sideBar": true,
   "skip_h1_title": true,
   "title_cell": "Table of Contents",
   "title_sidebar": "Contents",
   "toc_cell": false,
   "toc_position": {
    "height": "422.301px",
    "left": "252px",
    "top": "193.051px",
    "width": "364.391px"
   },
   "toc_section_display": true,
   "toc_window_display": true
  }
 },
 "nbformat": 4,
 "nbformat_minor": 5
}
